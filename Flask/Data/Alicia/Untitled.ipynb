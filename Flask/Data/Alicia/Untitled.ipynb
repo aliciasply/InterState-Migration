{
 "cells": [
  {
   "cell_type": "code",
   "execution_count": 1,
   "metadata": {},
   "outputs": [],
   "source": [
    "import pandas as pd\n",
    "import matplotlib.pyplot as plt\n",
    "%matplotlib inline\n",
    "plt.style.use('ggplot')"
   ]
  },
  {
   "cell_type": "code",
   "execution_count": 2,
   "metadata": {},
   "outputs": [],
   "source": [
    "in_out_state_data = {\n",
    "    'state': ['Arizona', 'California', 'Texas', 'Florida', 'North Carolina', 'New York', 'Virginia'],\n",
    "    'm_out': [98154, 368821, 241155,247664,136364,255001,250491],\n",
    "    'mean_housing_price':[239702,519533,189390,224273,185339,301285,268088],\n",
    "    'change_out_m_in':[-58010, 74743, -59315, -119388, -37616, 117021, 107110]\n",
    "}"
   ]
  },
  {
   "cell_type": "code",
   "execution_count": 3,
   "metadata": {},
   "outputs": [
    {
     "data": {
      "text/html": [
       "<div>\n",
       "<style scoped>\n",
       "    .dataframe tbody tr th:only-of-type {\n",
       "        vertical-align: middle;\n",
       "    }\n",
       "\n",
       "    .dataframe tbody tr th {\n",
       "        vertical-align: top;\n",
       "    }\n",
       "\n",
       "    .dataframe thead th {\n",
       "        text-align: right;\n",
       "    }\n",
       "</style>\n",
       "<table border=\"1\" class=\"dataframe\">\n",
       "  <thead>\n",
       "    <tr style=\"text-align: right;\">\n",
       "      <th></th>\n",
       "      <th>state</th>\n",
       "      <th>m_out</th>\n",
       "      <th>mean_housing_price</th>\n",
       "      <th>change_out_m_in</th>\n",
       "    </tr>\n",
       "  </thead>\n",
       "  <tbody>\n",
       "    <tr>\n",
       "      <th>0</th>\n",
       "      <td>Arizona</td>\n",
       "      <td>98154</td>\n",
       "      <td>239702</td>\n",
       "      <td>-58010</td>\n",
       "    </tr>\n",
       "    <tr>\n",
       "      <th>1</th>\n",
       "      <td>California</td>\n",
       "      <td>368821</td>\n",
       "      <td>519533</td>\n",
       "      <td>74743</td>\n",
       "    </tr>\n",
       "    <tr>\n",
       "      <th>2</th>\n",
       "      <td>Texas</td>\n",
       "      <td>241155</td>\n",
       "      <td>189390</td>\n",
       "      <td>-59315</td>\n",
       "    </tr>\n",
       "    <tr>\n",
       "      <th>3</th>\n",
       "      <td>Florida</td>\n",
       "      <td>247664</td>\n",
       "      <td>224273</td>\n",
       "      <td>-119388</td>\n",
       "    </tr>\n",
       "    <tr>\n",
       "      <th>4</th>\n",
       "      <td>North Carolina</td>\n",
       "      <td>136364</td>\n",
       "      <td>185339</td>\n",
       "      <td>-37616</td>\n",
       "    </tr>\n",
       "    <tr>\n",
       "      <th>5</th>\n",
       "      <td>New York</td>\n",
       "      <td>255001</td>\n",
       "      <td>301285</td>\n",
       "      <td>117021</td>\n",
       "    </tr>\n",
       "    <tr>\n",
       "      <th>6</th>\n",
       "      <td>Virginia</td>\n",
       "      <td>250491</td>\n",
       "      <td>268088</td>\n",
       "      <td>107110</td>\n",
       "    </tr>\n",
       "  </tbody>\n",
       "</table>\n",
       "</div>"
      ],
      "text/plain": [
       "            state   m_out  mean_housing_price  change_out_m_in\n",
       "0         Arizona   98154              239702           -58010\n",
       "1      California  368821              519533            74743\n",
       "2           Texas  241155              189390           -59315\n",
       "3         Florida  247664              224273          -119388\n",
       "4  North Carolina  136364              185339           -37616\n",
       "5        New York  255001              301285           117021\n",
       "6        Virginia  250491              268088           107110"
      ]
     },
     "execution_count": 3,
     "metadata": {},
     "output_type": "execute_result"
    }
   ],
   "source": [
    "df = pd.DataFrame (in_out_state_data, columns = ['state','m_out','mean_housing_price','change_out_m_in'])\n",
    "df"
   ]
  },
  {
   "cell_type": "code",
   "execution_count": 4,
   "metadata": {},
   "outputs": [
    {
     "data": {
      "text/html": [
       "<div>\n",
       "<style scoped>\n",
       "    .dataframe tbody tr th:only-of-type {\n",
       "        vertical-align: middle;\n",
       "    }\n",
       "\n",
       "    .dataframe tbody tr th {\n",
       "        vertical-align: top;\n",
       "    }\n",
       "\n",
       "    .dataframe thead th {\n",
       "        text-align: right;\n",
       "    }\n",
       "</style>\n",
       "<table border=\"1\" class=\"dataframe\">\n",
       "  <thead>\n",
       "    <tr style=\"text-align: right;\">\n",
       "      <th></th>\n",
       "      <th>state</th>\n",
       "      <th>m_out</th>\n",
       "      <th>mean_housing_price</th>\n",
       "      <th>change_out_m_in</th>\n",
       "    </tr>\n",
       "  </thead>\n",
       "  <tbody>\n",
       "    <tr>\n",
       "      <th>4</th>\n",
       "      <td>North Carolina</td>\n",
       "      <td>136364</td>\n",
       "      <td>185339</td>\n",
       "      <td>-37616</td>\n",
       "    </tr>\n",
       "    <tr>\n",
       "      <th>2</th>\n",
       "      <td>Texas</td>\n",
       "      <td>241155</td>\n",
       "      <td>189390</td>\n",
       "      <td>-59315</td>\n",
       "    </tr>\n",
       "    <tr>\n",
       "      <th>3</th>\n",
       "      <td>Florida</td>\n",
       "      <td>247664</td>\n",
       "      <td>224273</td>\n",
       "      <td>-119388</td>\n",
       "    </tr>\n",
       "    <tr>\n",
       "      <th>0</th>\n",
       "      <td>Arizona</td>\n",
       "      <td>98154</td>\n",
       "      <td>239702</td>\n",
       "      <td>-58010</td>\n",
       "    </tr>\n",
       "    <tr>\n",
       "      <th>6</th>\n",
       "      <td>Virginia</td>\n",
       "      <td>250491</td>\n",
       "      <td>268088</td>\n",
       "      <td>107110</td>\n",
       "    </tr>\n",
       "    <tr>\n",
       "      <th>5</th>\n",
       "      <td>New York</td>\n",
       "      <td>255001</td>\n",
       "      <td>301285</td>\n",
       "      <td>117021</td>\n",
       "    </tr>\n",
       "    <tr>\n",
       "      <th>1</th>\n",
       "      <td>California</td>\n",
       "      <td>368821</td>\n",
       "      <td>519533</td>\n",
       "      <td>74743</td>\n",
       "    </tr>\n",
       "  </tbody>\n",
       "</table>\n",
       "</div>"
      ],
      "text/plain": [
       "            state   m_out  mean_housing_price  change_out_m_in\n",
       "4  North Carolina  136364              185339           -37616\n",
       "2           Texas  241155              189390           -59315\n",
       "3         Florida  247664              224273          -119388\n",
       "0         Arizona   98154              239702           -58010\n",
       "6        Virginia  250491              268088           107110\n",
       "5        New York  255001              301285           117021\n",
       "1      California  368821              519533            74743"
      ]
     },
     "execution_count": 4,
     "metadata": {},
     "output_type": "execute_result"
    }
   ],
   "source": [
    "df = df.sort_values(by=['mean_housing_price'])\n",
    "df"
   ]
  },
  {
   "cell_type": "code",
   "execution_count": 5,
   "metadata": {},
   "outputs": [
    {
     "data": {
      "image/png": "[encoded data removed]",
      "text/plain": [
       "<Figure size 720x504 with 1 Axes>"
      ]
     },
     "metadata": {},
     "output_type": "display_data"
    }
   ],
   "source": [
    "x = df['state']\n",
    "x_pos = [i for i, _ in enumerate(df['change_out_m_in'])]\n",
    "plt.figure(figsize=(10,7))\n",
    "plt.bar(x_pos, df['mean_housing_price'], color='green')\n",
    "plt.xlabel(\"Change\")\n",
    "plt.ylabel(\"Mean Housing Price\")\n",
    "plt.title(\"Change vs Mean Housing Price\")\n",
    "plt.xticks(x_pos, x)\n",
    "plt.show()"
   ]
  },
  {
   "cell_type": "code",
   "execution_count": 6,
   "metadata": {},
   "outputs": [
    {
     "data": {
      "image/png": "[encoded data removed]",
      "text/plain": [
       "<Figure size 720x504 with 1 Axes>"
      ]
     },
     "metadata": {},
     "output_type": "display_data"
    }
   ],
   "source": [
    "x = df['state']\n",
    "x_pos = [i for i, _ in enumerate(df['m_out'])]\n",
    "plt.figure(figsize=(10,7))\n",
    "plt.bar(x_pos, df['mean_housing_price'], color='green')\n",
    "plt.xlabel(\"M_Out\")\n",
    "plt.ylabel(\"Mean Housing Price\")\n",
    "plt.title(\"M_Out vs Mean Housing Price\")\n",
    "plt.xticks(x_pos, x)\n",
    "plt.show()"
   ]
  },
  {
   "cell_type": "code",
   "execution_count": null,
   "metadata": {},
   "outputs": [],
   "source": []
  },
  {
   "cell_type": "code",
   "execution_count": null,
   "metadata": {},
   "outputs": [],
   "source": []
  }
 ],
 "metadata": {
  "kernelspec": {
   "display_name": "Python 3",
   "language": "python",
   "name": "python3"
  },
  "language_info": {
   "codemirror_mode": {
    "name": "ipython",
    "version": 3
   },
   "file_extension": ".py",
   "mimetype": "text/x-python",
   "name": "python",
   "nbconvert_exporter": "python",
   "pygments_lexer": "ipython3",
   "version": "3.8.3"
  }
 },
 "nbformat": 4,
 "nbformat_minor": 5
}
